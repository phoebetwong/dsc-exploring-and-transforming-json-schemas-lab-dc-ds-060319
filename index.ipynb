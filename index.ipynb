{
 "cells": [
  {
   "cell_type": "markdown",
   "metadata": {},
   "source": [
    "# Exploring and Transforming JSON Schemas"
   ]
  },
  {
   "cell_type": "markdown",
   "metadata": {},
   "source": [
    "# Introduction\n",
    "\n",
    "In this lesson, you'll formalize how to explore a JSON file whose structure and schema is unknown to you. This often happens in practice when you are handed a file or stumble upon one with little documentation."
   ]
  },
  {
   "cell_type": "markdown",
   "metadata": {},
   "source": [
    "## Objectives\n",
    "You will be able to:\n",
    "* Explore unknown JSON schemas\n",
    "* Access and manipulate data inside a JSON file\n",
    "* Convert JSON to alternative data formats"
   ]
  },
  {
   "cell_type": "markdown",
   "metadata": {},
   "source": [
    "## Loading the JSON file\n",
    "\n",
    "Load the data from the file disease_data.json."
   ]
  },
  {
   "cell_type": "code",
   "execution_count": 1,
   "metadata": {},
   "outputs": [],
   "source": [
    "#Your code here \n",
    "import json\n",
    "f = open('disease_data.json')\n",
    "data = json.load(f)"
   ]
  },
  {
   "cell_type": "markdown",
   "metadata": {},
   "source": [
    "## Explore the first and second levels of the schema hierarchy"
   ]
  },
  {
   "cell_type": "code",
   "execution_count": 2,
   "metadata": {},
   "outputs": [
    {
     "data": {
      "text/plain": [
       "dict"
      ]
     },
     "execution_count": 2,
     "metadata": {},
     "output_type": "execute_result"
    }
   ],
   "source": [
    "#Your code here\n",
    "type(data)"
   ]
  },
  {
   "cell_type": "code",
   "execution_count": 3,
   "metadata": {},
   "outputs": [
    {
     "data": {
      "text/plain": [
       "dict_keys(['meta', 'data'])"
      ]
     },
     "execution_count": 3,
     "metadata": {},
     "output_type": "execute_result"
    }
   ],
   "source": [
    "data.keys()"
   ]
  },
  {
   "cell_type": "code",
   "execution_count": 6,
   "metadata": {
    "scrolled": true
   },
   "outputs": [
    {
     "data": {
      "text/plain": [
       "dict"
      ]
     },
     "execution_count": 6,
     "metadata": {},
     "output_type": "execute_result"
    }
   ],
   "source": [
    "type(data['meta'])"
   ]
  },
  {
   "cell_type": "code",
   "execution_count": 8,
   "metadata": {},
   "outputs": [
    {
     "data": {
      "text/plain": [
       "dict_values([{'id': 'g4ie-h725', 'name': 'U.S. Chronic Disease Indicators (CDI)', 'attribution': 'Centers for Disease Control and Prevention, National Center for Chronic Disease Prevention and Health Promotion, Division of Population Health', 'attributionLink': 'http://www.cdc.gov/nccdphp/dph/', 'averageRating': 0, 'category': 'Chronic Disease Indicators', 'createdAt': 1463517008, 'description': \"CDC's Division of Population Health provides cross-cutting set of 124 indicators that were developed by consensus and that allows states and territories and large metropolitan areas to uniformly define, collect, and report chronic disease data that are important to public health practice and available for states, territories and large metropolitan areas. In addition to providing access to state-specific indicator data, the CDI web site serves as a gateway to additional information and data resources.\", 'displayType': 'table', 'downloadCount': 80068, 'hideFromCatalog': False, 'hideFromDataJson': False, 'indexUpdatedAt': 1531158109, 'licenseId': 'PUBLIC_DOMAIN', 'newBackend': False, 'numberOfComments': 0, 'oid': 28887577, 'provenance': 'official', 'publicationAppendEnabled': False, 'publicationDate': 1527195619, 'publicationGroup': 10787757, 'publicationStage': 'published', 'rowClass': '', 'rowsUpdatedAt': 1527194748, 'rowsUpdatedBy': 'fwb6-kmt3', 'tableId': 15222261, 'totalTimesRated': 0, 'viewCount': 15880, 'viewLastModified': 1531157635, 'viewType': 'tabular', 'columns': [{'id': -1, 'name': 'sid', 'dataTypeName': 'meta_data', 'fieldName': ':sid', 'position': 0, 'renderTypeName': 'meta_data', 'format': {}, 'flags': ['hidden']}, {'id': -1, 'name': 'id', 'dataTypeName': 'meta_data', 'fieldName': ':id', 'position': 0, 'renderTypeName': 'meta_data', 'format': {}, 'flags': ['hidden']}, {'id': -1, 'name': 'position', 'dataTypeName': 'meta_data', 'fieldName': ':position', 'position': 0, 'renderTypeName': 'meta_data', 'format': {}, 'flags': ['hidden']}, {'id': -1, 'name': 'created_at', 'dataTypeName': 'meta_data', 'fieldName': ':created_at', 'position': 0, 'renderTypeName': 'meta_data', 'format': {}, 'flags': ['hidden']}, {'id': -1, 'name': 'created_meta', 'dataTypeName': 'meta_data', 'fieldName': ':created_meta', 'position': 0, 'renderTypeName': 'meta_data', 'format': {}, 'flags': ['hidden']}, {'id': -1, 'name': 'updated_at', 'dataTypeName': 'meta_data', 'fieldName': ':updated_at', 'position': 0, 'renderTypeName': 'meta_data', 'format': {}, 'flags': ['hidden']}, {'id': -1, 'name': 'updated_meta', 'dataTypeName': 'meta_data', 'fieldName': ':updated_meta', 'position': 0, 'renderTypeName': 'meta_data', 'format': {}, 'flags': ['hidden']}, {'id': -1, 'name': 'meta', 'dataTypeName': 'meta_data', 'fieldName': ':meta', 'position': 0, 'renderTypeName': 'meta_data', 'format': {}, 'flags': ['hidden']}, {'id': 360864928, 'name': 'YearStart', 'dataTypeName': 'number', 'description': 'Starting Year\\n', 'fieldName': 'yearstart', 'position': 1, 'renderTypeName': 'number', 'tableColumnId': 36246792, 'width': 208, 'cachedContents': {'largest': '2016', 'non_null': 519718, 'average': '2013.141884637438', 'null': 0, 'top': [{'item': '2016', 'count': 20}, {'item': '2015', 'count': 19}, {'item': '2014', 'count': 18}, {'item': '2013', 'count': 17}, {'item': '2012', 'count': 16}, {'item': '2011', 'count': 15}, {'item': '2010', 'count': 14}, {'item': '2009', 'count': 13}, {'item': '2008', 'count': 12}, {'item': '2007', 'count': 11}, {'item': '2001', 'count': 10}], 'smallest': '2001', 'sum': '1046266074'}, 'format': {'precisionStyle': 'standard', 'noCommas': 'true', 'align': 'right'}}, {'id': 360864929, 'name': 'YearEnd', 'dataTypeName': 'number', 'description': 'Ending Year\\n', 'fieldName': 'yearend', 'position': 2, 'renderTypeName': 'number', 'tableColumnId': 36246793, 'width': 184, 'cachedContents': {'largest': '2016', 'non_null': 519718, 'average': '2013.162753647170', 'null': 0, 'top': [{'item': '2016', 'count': 20}, {'item': '2015', 'count': 19}, {'item': '2014', 'count': 18}, {'item': '2013', 'count': 17}, {'item': '2012', 'count': 16}, {'item': '2011', 'count': 15}, {'item': '2010', 'count': 14}, {'item': '2008', 'count': 13}, {'item': '2007', 'count': 12}, {'item': '2001', 'count': 11}], 'smallest': '2001', 'sum': '1046276920'}, 'format': {'precisionStyle': 'standard', 'noCommas': 'true', 'align': 'right'}}, {'id': 360864930, 'name': 'LocationAbbr', 'dataTypeName': 'text', 'description': 'Location Abbreviation\\n', 'fieldName': 'locationabbr', 'position': 3, 'renderTypeName': 'text', 'tableColumnId': 36246794, 'width': 244, 'cachedContents': {'largest': 'WY', 'non_null': 519718, 'null': 0, 'top': [{'item': 'GU', 'count': 20}, {'item': 'PR', 'count': 19}, {'item': 'VI', 'count': 18}, {'item': 'US', 'count': 17}, {'item': 'NH', 'count': 16}, {'item': 'NY', 'count': 15}, {'item': 'RI', 'count': 14}, {'item': 'SC', 'count': 13}, {'item': 'SD', 'count': 12}, {'item': 'VT', 'count': 11}, {'item': 'ME', 'count': 10}, {'item': 'DC', 'count': 9}, {'item': 'FL', 'count': 8}, {'item': 'HI', 'count': 7}, {'item': 'NM', 'count': 6}], 'smallest': 'AK'}, 'format': {'displayStyle': 'plain', 'align': 'left'}}, {'id': 360864931, 'name': 'LocationDesc', 'dataTypeName': 'text', 'description': 'Location Description\\n', 'fieldName': 'locationdesc', 'position': 4, 'renderTypeName': 'text', 'tableColumnId': 36246795, 'width': 244, 'cachedContents': {'largest': 'Wyoming', 'non_null': 519718, 'null': 0, 'top': [{'item': 'Guam', 'count': 20}, {'item': 'Puerto Rico', 'count': 19}, {'item': 'Virgin Islands', 'count': 18}, {'item': 'United States', 'count': 17}, {'item': 'New Hampshire', 'count': 16}, {'item': 'New York', 'count': 15}, {'item': 'Rhode Island', 'count': 14}, {'item': 'South Carolina', 'count': 13}, {'item': 'South Dakota', 'count': 12}, {'item': 'Vermont', 'count': 11}, {'item': 'Maine', 'count': 10}, {'item': 'District of Columbia', 'count': 9}, {'item': 'Florida', 'count': 8}, {'item': 'Hawaii', 'count': 7}, {'item': 'New Mexico', 'count': 6}], 'smallest': 'Alabama'}, 'format': {'displayStyle': 'plain', 'align': 'left'}}, {'id': 360864932, 'name': 'DataSource', 'dataTypeName': 'text', 'description': 'Data Source Abbreviation\\n', 'fieldName': 'datasource', 'position': 5, 'renderTypeName': 'text', 'tableColumnId': 36246796, 'width': 220, 'cachedContents': {'largest': 'YRBSS', 'non_null': 519718, 'null': 0, 'top': [{'item': 'BRFSS', 'count': 20}, {'item': 'YRBSS', 'count': 19}, {'item': 'ACS 5-Year Estimates', 'count': 18}, {'item': 'USRDS', 'count': 17}, {'item': 'CDC School Health Profiles', 'count': 16}, {'item': 'State Inpatient Data', 'count': 15}, {'item': 'NVSS', 'count': 14}, {'item': 'SEDD; SID', 'count': 13}, {'item': 'STATE', 'count': 12}, {'item': 'CDC Breastfeeding Report Card', 'count': 11}, {'item': 'APIS', 'count': 10}, {'item': 'Legal Research', 'count': 9}, {'item': 'mPINC', 'count': 8}, {'item': 'HRSA, UDS', 'count': 7}, {'item': 'ASHW', 'count': 6}, {'item': 'ANRF', 'count': 5}, {'item': 'AEDS', 'count': 4}, {'item': 'InfoUSA; USDA', 'count': 3}, {'item': 'WFRS', 'count': 2}, {'item': 'National Immunization Survey', 'count': 1}], 'smallest': 'ACS 1-Year Estimates'}, 'format': {'displayStyle': 'plain', 'align': 'left'}}, {'id': 360864933, 'name': 'Topic', 'dataTypeName': 'text', 'description': 'Topic\\n', 'fieldName': 'topic', 'position': 6, 'renderTypeName': 'text', 'tableColumnId': 36246797, 'width': 160, 'cachedContents': {'largest': 'Tobacco', 'non_null': 519718, 'null': 0, 'top': [{'item': 'Alcohol', 'count': 20}, {'item': 'Arthritis', 'count': 19}, {'item': 'Asthma', 'count': 18}, {'item': 'Cancer', 'count': 17}, {'item': 'Diabetes', 'count': 16}, {'item': 'Chronic Obstructive Pulmonary Disease', 'count': 15}, {'item': 'Mental Health', 'count': 14}, {'item': 'Oral Health', 'count': 13}, {'item': 'Cardiovascular Disease', 'count': 12}, {'item': 'Immunization', 'count': 11}, {'item': 'Chronic Kidney Disease', 'count': 10}, {'item': 'Nutrition, Physical Activity, and Weight Status', 'count': 9}, {'item': 'Older Adults', 'count': 8}, {'item': 'Tobacco', 'count': 7}, {'item': 'Overarching Conditions', 'count': 6}, {'item': 'Reproductive Health', 'count': 5}, {'item': 'Disability', 'count': 4}], 'smallest': 'Alcohol'}, 'format': {'displayStyle': 'plain', 'align': 'left'}}, {'id': 360864934, 'name': 'Question', 'dataTypeName': 'text', 'description': 'Question full-length text\\n', 'fieldName': 'question', 'position': 7, 'renderTypeName': 'text', 'tableColumnId': 36246798, 'width': 196, 'cachedContents': {'largest': 'Work limitation due to arthritis among adults aged 18-64 years who have doctor-diagnosed arthritis', 'non_null': 519718, 'null': 0, 'top': [{'item': 'Mortality due to diabetes reported as any listed cause of death', 'count': 20}, {'item': 'Mortality with diabetic ketoacidosis reported as any listed cause of death', 'count': 19}, {'item': 'Premature mortality among adults aged 45-64 years', 'count': 18}, {'item': 'Chronic liver disease mortality', 'count': 17}, {'item': 'Asthma mortality rate', 'count': 16}, {'item': 'Mortality with end-stage renal disease', 'count': 15}, {'item': 'Mortality with chronic obstructive pulmonary disease as underlying cause among adults aged >= 45 years', 'count': 14}, {'item': 'Mortality with chronic obstructive pulmonary disease as underlying or contributing cause among adults aged >= 45 years', 'count': 13}, {'item': 'Mortality from total cardiovascular diseases', 'count': 12}, {'item': 'Mortality from diseases of the heart', 'count': 11}, {'item': 'Mortality from coronary heart disease', 'count': 10}, {'item': 'Mortality from heart failure', 'count': 9}, {'item': 'Mortality from cerebrovascular disease (stroke)', 'count': 8}, {'item': 'Emergency department visit rate for asthma', 'count': 7}, {'item': 'Disability among adults aged >= 65 years', 'count': 6}, {'item': 'Poverty', 'count': 5}, {'item': 'Prevalence of 2 or more chronic conditions among Medicare-enrolled persons aged >= 65 years', 'count': 4}, {'item': 'Emergency department visit rate for chronic obstructive pulmonary disease as first-listed diagnosis', 'count': 3}, {'item': 'Emergency department visit rate for chronic obstructive pulmonary disease as any diagnosis', 'count': 2}, {'item': 'Hospitalizations for asthma', 'count': 1}], 'smallest': 'Activity limitation due to arthritis among adults aged >= 18 years who have doctor-diagnosed arthritis'}, 'format': {'displayStyle': 'plain', 'align': 'left'}}, {'id': 360864935, 'name': 'Response', 'dataTypeName': 'text', 'description': 'Response\\n', 'fieldName': 'response', 'position': 8, 'renderTypeName': 'text', 'tableColumnId': 36246799, 'width': 196, 'cachedContents': {'largest': ' ', 'non_null': 79188, 'null': 440530, 'top': [{'item': ' ', 'count': 20}], 'smallest': ' '}, 'format': {'displayStyle': 'plain', 'align': 'left'}}, {'id': 360864936, 'name': 'DataValueUnit', 'dataTypeName': 'text', 'description': 'The unit, such as $, %, years, etc.\\n', 'fieldName': 'datavalueunit', 'position': 9, 'renderTypeName': 'text', 'tableColumnId': 36246800, 'width': 256, 'cachedContents': {'largest': 'Years', 'non_null': 476046, 'null': 43672, 'top': [{'item': '%', 'count': 20}, {'item': 'Number', 'count': 19}, {'item': 'cases per 1,000,000', 'count': 18}, {'item': 'cases per 10,000', 'count': 17}, {'item': ' ', 'count': 16}, {'item': '$', 'count': 15}, {'item': 'Number ', 'count': 14}, {'item': 'cases per 100,000', 'count': 13}, {'item': 'gallons', 'count': 12}, {'item': 'pack sales per capita', 'count': 11}, {'item': 'per 100,000 residents', 'count': 10}, {'item': 'Years', 'count': 9}, {'item': 'per 100,000', 'count': 8}, {'item': 'cases per 1,000', 'count': 7}], 'smallest': ' '}, 'format': {'displayStyle': 'plain', 'align': 'left'}}, {'id': 360864937, 'name': 'DataValueType', 'dataTypeName': 'text', 'description': 'The data type, such as prevalence or mean\\n', 'fieldName': 'datavaluetype', 'position': 10, 'renderTypeName': 'text', 'tableColumnId': 36246802, 'width': 256, 'cachedContents': {'largest': 'Yes/No', 'non_null': 519718, 'null': 0, 'top': [{'item': 'Crude Prevalence', 'count': 20}, {'item': 'Age-adjusted Prevalence', 'count': 19}, {'item': 'Mean', 'count': 18}, {'item': 'Age-adjusted Mean', 'count': 17}, {'item': 'Number', 'count': 16}, {'item': 'Median', 'count': 15}, {'item': 'Adjusted by age, sex, race and ethnicity', 'count': 14}, {'item': 'Percent', 'count': 13}, {'item': 'Age-adjusted Rate', 'count': 12}, {'item': 'Crude Rate', 'count': 11}, {'item': 'Yes/No', 'count': 10}, {'item': 'US Dollars', 'count': 9}, {'item': 'Commercial host (dram shop) liability status for alcohol service', 'count': 8}, {'item': 'Local control of the regulation of alcohol outlet density', 'count': 7}, {'item': 'Per capita alcohol consumption', 'count': 6}, {'item': 'Prevalence', 'count': 5}, {'item': 'Average Annual Number', 'count': 4}, {'item': 'Average Annual Age-adjusted Rate', 'count': 3}, {'item': 'Average Annual Crude Rate', 'count': 2}], 'smallest': 'Adjusted by age, sex, race and ethnicity'}, 'format': {'displayStyle': 'plain', 'align': 'left'}}, {'id': 360864938, 'name': 'DataValue', 'dataTypeName': 'text', 'description': 'Data Value, such as 14.7 or Category 1\\n', 'fieldName': 'datavalue', 'position': 11, 'renderTypeName': 'text', 'tableColumnId': 36246803, 'width': 208, 'cachedContents': {'largest': 'Yes', 'non_null': 374564, 'null': 145154, 'top': [{'item': ' ', 'count': 20}, {'item': '83.2', 'count': 19}, {'item': '87.8', 'count': 18}, {'item': '86.8', 'count': 17}, {'item': '84.5', 'count': 16}, {'item': 'Yes', 'count': 15}, {'item': 'No', 'count': 14}, {'item': '3.2', 'count': 13}, {'item': '3.8', 'count': 12}, {'item': '4.4', 'count': 11}, {'item': '3.6', 'count': 10}, {'item': '2.9', 'count': 9}, {'item': '3.5', 'count': 8}, {'item': '4.3', 'count': 7}, {'item': '3', 'count': 6}, {'item': '4.9', 'count': 5}, {'item': '4.1', 'count': 4}, {'item': '4', 'count': 3}, {'item': '3.1', 'count': 2}, {'item': '3.7', 'count': 1}], 'smallest': ' '}, 'format': {'displayStyle': 'plain', 'align': 'left'}}, {'id': 360864939, 'name': 'DataValueAlt', 'dataTypeName': 'number', 'description': 'Equal to Data Value, but formatting is numeric\\n', 'fieldName': 'datavaluealt', 'position': 12, 'renderTypeName': 'number', 'tableColumnId': 36246804, 'width': 244, 'cachedContents': {'largest': '2600878', 'non_null': 350335, 'average': '891.7742131673969', 'null': 169383, 'top': [{'item': '83.2', 'count': 20}, {'item': '84.5', 'count': 19}, {'item': '87.8', 'count': 18}, {'item': '3.2', 'count': 17}, {'item': '3.8', 'count': 16}, {'item': '3.6', 'count': 15}, {'item': '3.5', 'count': 14}, {'item': '4.3', 'count': 13}, {'item': '3', 'count': 12}, {'item': '4.9', 'count': 11}, {'item': '4.1', 'count': 10}, {'item': '4', 'count': 9}, {'item': '3.1', 'count': 8}, {'item': '4.4', 'count': 7}, {'item': '3.7', 'count': 6}, {'item': '3.3', 'count': 5}, {'item': '3.9', 'count': 4}, {'item': '2.8', 'count': 3}, {'item': '4.2', 'count': 2}, {'item': '2.9', 'count': 1}], 'smallest': '0', 'sum': '312419718.97'}, 'format': {'precisionStyle': 'standard', 'noCommas': 'false', 'align': 'right'}}, {'id': 360864940, 'name': 'DataValueFootnoteSymbol', 'dataTypeName': 'text', 'description': 'Footnote Symbol\\n', 'fieldName': 'datavaluefootnotesymbol', 'position': 13, 'renderTypeName': 'text', 'tableColumnId': 36246805, 'width': 376, 'cachedContents': {'largest': 'â€\\xa0â€\\xa0â€\\xa0', 'non_null': 227318, 'null': 292400, 'top': [{'item': '*', 'count': 20}, {'item': '****', 'count': 19}, {'item': '-', 'count': 18}, {'item': '##', 'count': 17}, {'item': '***', 'count': 16}, {'item': ' ', 'count': 15}, {'item': '~', 'count': 14}, {'item': '^^', 'count': 13}, {'item': 'Â§,â€¡', 'count': 12}, {'item': 'Â§', 'count': 11}, {'item': '^^^', 'count': 10}, {'item': 'â€\\xa0â€\\xa0â€\\xa0', 'count': 9}, {'item': 'Â§,â€¡,^', 'count': 8}, {'item': '#', 'count': 7}, {'item': '*, #', 'count': 6}, {'item': 'Â§Â§', 'count': 5}, {'item': '~~~', 'count': 4}, {'item': '^^^^', 'count': 3}, {'item': '**', 'count': 2}], 'smallest': ' '}, 'format': {'displayStyle': 'plain', 'align': 'left'}}, {'id': 360864941, 'name': 'DatavalueFootnote', 'dataTypeName': 'text', 'description': 'Footnote Text\\n', 'fieldName': 'datavaluefootnote', 'position': 14, 'renderTypeName': 'text', 'tableColumnId': 36246806, 'width': 304, 'cachedContents': {'largest': 'US Median based on the number of participating states and/or excluding states with sample size below 50 or relative standard error above 30%', 'non_null': 227152, 'null': 292566, 'top': [{'item': '50 States + DC: US Median', 'count': 20}, {'item': 'Sample size of denominator and/or age group for age-standardization is less than 50 or relative standard error is more than 30%', 'count': 19}, {'item': 'No data available', 'count': 18}, {'item': 'Estimate is 0.0% because no cases were reported with this condition', 'count': 17}, {'item': 'US Median based on the number of participating states and/or excluding states with sample size below 50 or relative standard error above 30%', 'count': 16}, {'item': ' ', 'count': 15}, {'item': 'Data not shown because of too few respondents or cases', 'count': 14}, {'item': 'State directly controlled the sale of (beer/wine/distilled spirits) at the retail and/or wholesale levels. State prices for (beer/wine/distilled spirits) combined both markups and taxes, so tax rates for this beverage type could not be determined.', 'count': 13}, {'item': 'Population served by CWS exceeded the US Census state population estimate; number of people was reduced by the ratio of the population estimate to the CWS population estimate.  Complete data were not available from WFRS; state provided additional information.', 'count': 12}, {'item': 'Population served by CWS exceeded the US Census state population estimate; number of people was reduced by the ratio of the population estimate to the CWS population estimate', 'count': 11}, {'item': 'DC was not rated for this measure because the measure addresses state versus local authority and does not apply to the District of Columbia', 'count': 10}, {'item': 'A confidence interval for this location is not available because a census was used instead of a sample for their surveys', 'count': 9}, {'item': 'Population served by CWS exceeded the US Census state population estimate; number of people was reduced by the ratio of the population estimate to the CWS population estimate.  Complete data were not available from WFRS; state provided additional information.  California is developing new methodology to describe the fluoridated status of water systems that draw water from multiple sources (e.g., ground water, surface water). This report does not reflect Californiaâ€™s new methodology.', 'count': 8}, {'item': 'NSCH Data provided by Data Resource Center for Child and Adolescent Health.  http://www.childhealthdata.org', 'count': 7}, {'item': '50 states + DC:  Median Percent; NSCH Data provided by Data Resource Center for Child and Adolescent Health.  http://www.childhealthdata.org', 'count': 6}, {'item': 'Per capita alcohol consumption was calculated using (1) alcohol beverage sales data, either collected directly from states or provided by beverage industry sources (numerator); and (2) population data from the U.S. Census Bureau (denominator).', 'count': 5}, {'item': 'Data are not available because cancer registry did not meet the data quality criteria for all the years for publication in United States Cancer statistics (USCS)', 'count': 4}, {'item': 'Data are from cancer registries that meet the data quality criteria for all invasive cancer sites combined, for all years covering approximately 99% of the U.S. population. See registry-specific data quality information at http://www.cdc.gov/cancer/npcr/uscs/data/00_data_quality.htm', 'count': 3}, {'item': 'US estimate/number is based on fewer than 50 states and the District of Columbia', 'count': 2}], 'smallest': ' '}, 'format': {'displayStyle': 'plain', 'align': 'left'}}, {'id': 360864942, 'name': 'LowConfidenceLimit', 'dataTypeName': 'number', 'description': 'Low Confidence Limit\\n', 'fieldName': 'lowconfidencelimit', 'position': 15, 'renderTypeName': 'number', 'tableColumnId': 36246807, 'width': 316, 'cachedContents': {'largest': '1330.66', 'non_null': 311062, 'average': '46.75940127691586', 'null': 208656, 'top': [{'item': '10.7', 'count': 20}, {'item': '13.9', 'count': 19}, {'item': '11.4', 'count': 18}, {'item': '11', 'count': 17}, {'item': '10.3', 'count': 16}, {'item': '12.4', 'count': 15}, {'item': '3.7', 'count': 14}, {'item': '3.4', 'count': 13}, {'item': '3.3', 'count': 12}, {'item': '2.7', 'count': 11}, {'item': '3.2', 'count': 10}, {'item': '4.1', 'count': 9}, {'item': '2.8', 'count': 8}, {'item': '4.7', 'count': 7}, {'item': '3.8', 'count': 6}, {'item': '3.6', 'count': 5}, {'item': '3.9', 'count': 4}, {'item': '2.9', 'count': 3}, {'item': '3.5', 'count': 2}, {'item': '3.1', 'count': 1}], 'smallest': '0.2', 'sum': '14545072.88'}, 'format': {'precisionStyle': 'standard', 'noCommas': 'false', 'align': 'right'}}, {'id': 360864943, 'name': 'HighConfidenceLimit', 'dataTypeName': 'number', 'description': 'High Confidence Limit\\n', 'fieldName': 'highconfidencelimit', 'position': 16, 'renderTypeName': 'number', 'tableColumnId': 36246808, 'width': 328, 'cachedContents': {'largest': '2088.00', 'non_null': 311062, 'average': '58.99128656023558', 'null': 208656, 'top': [{'item': '12.3', 'count': 20}, {'item': '11.1', 'count': 19}, {'item': '3.5', 'count': 18}, {'item': '4.4', 'count': 17}, {'item': '5', 'count': 16}, {'item': '4', 'count': 15}, {'item': '3.7', 'count': 14}, {'item': '3.8', 'count': 13}, {'item': '4.3', 'count': 12}, {'item': '4.7', 'count': 11}, {'item': '3.9', 'count': 10}, {'item': '3.2', 'count': 9}, {'item': '4.2', 'count': 8}, {'item': '4.6', 'count': 7}, {'item': '3.3', 'count': 6}, {'item': '5.2', 'count': 5}, {'item': '4.5', 'count': 4}, {'item': '4.1', 'count': 3}, {'item': '3', 'count': 2}, {'item': '3.1', 'count': 1}], 'smallest': '0.42', 'sum': '18349947.58'}, 'format': {'precisionStyle': 'standard', 'noCommas': 'false', 'align': 'right'}}, {'id': 360864944, 'name': 'StratificationCategory1', 'dataTypeName': 'text', 'description': 'The category of the stratification, such as Gender, Overall, or Race/Ethnicity\\n', 'fieldName': 'stratificationcategory1', 'position': 17, 'renderTypeName': 'text', 'tableColumnId': 36246809, 'width': 376, 'cachedContents': {'largest': 'Race/Ethnicity', 'non_null': 519718, 'null': 0, 'top': [{'item': 'Overall', 'count': 20}, {'item': 'Gender', 'count': 19}, {'item': 'Race/Ethnicity', 'count': 18}], 'smallest': 'Gender'}, 'format': {'displayStyle': 'plain', 'align': 'left'}}, {'id': 360864945, 'name': 'Stratification1', 'dataTypeName': 'text', 'description': 'The stratification within the category, such as Male or Female, White/non-Hispanic, Hispanic, Black/non-Hispanic, American Indian or Alaska Native, Asian or Pacific Islander, Multi-racial/non-Hispanic, Other/non-Hispanic, or Overall\\n', 'fieldName': 'stratification1', 'position': 18, 'renderTypeName': 'text', 'tableColumnId': 36246810, 'width': 280, 'cachedContents': {'largest': 'White, non-Hispanic', 'non_null': 519718, 'null': 0, 'top': [{'item': 'Overall', 'count': 20}, {'item': 'Male', 'count': 19}, {'item': 'Female', 'count': 18}, {'item': 'White, non-Hispanic', 'count': 17}, {'item': 'Black, non-Hispanic', 'count': 16}, {'item': 'Hispanic', 'count': 15}, {'item': 'Other, non-Hispanic', 'count': 14}, {'item': 'Multiracial, non-Hispanic', 'count': 13}, {'item': 'American Indian or Alaska Native', 'count': 12}, {'item': 'Asian or Pacific Islander', 'count': 11}, {'item': 'Asian, non-Hispanic', 'count': 10}], 'smallest': 'American Indian or Alaska Native'}, 'format': {'displayStyle': 'plain', 'align': 'left'}}, {'id': 360864946, 'name': 'StratificationCategory2', 'dataTypeName': 'text', 'fieldName': 'stratificationcategory2', 'position': 19, 'renderTypeName': 'text', 'tableColumnId': 36246811, 'width': 376, 'cachedContents': {'largest': ' ', 'non_null': 79188, 'null': 440530, 'top': [{'item': ' ', 'count': 20}], 'smallest': ' '}, 'format': {}}, {'id': 360864947, 'name': 'Stratification2', 'dataTypeName': 'text', 'fieldName': 'stratification2', 'position': 20, 'renderTypeName': 'text', 'tableColumnId': 36246812, 'width': 280, 'cachedContents': {'largest': ' ', 'non_null': 79188, 'null': 440530, 'top': [{'item': ' ', 'count': 20}], 'smallest': ' '}, 'format': {}}, {'id': 360864948, 'name': 'StratificationCategory3', 'dataTypeName': 'text', 'fieldName': 'stratificationcategory3', 'position': 21, 'renderTypeName': 'text', 'tableColumnId': 36246813, 'width': 376, 'cachedContents': {'largest': ' ', 'non_null': 79188, 'null': 440530, 'top': [{'item': ' ', 'count': 20}], 'smallest': ' '}, 'format': {}}, {'id': 360864949, 'name': 'Stratification3', 'dataTypeName': 'text', 'fieldName': 'stratification3', 'position': 22, 'renderTypeName': 'text', 'tableColumnId': 36246814, 'width': 280, 'cachedContents': {'largest': ' ', 'non_null': 79188, 'null': 440530, 'top': [{'item': ' ', 'count': 20}], 'smallest': ' '}, 'format': {}}, {'id': 360864950, 'name': 'GeoLocation', 'dataTypeName': 'location', 'description': 'Location code to be used for Geocoding\\n', 'fieldName': 'geolocation', 'position': 23, 'renderTypeName': 'location', 'tableColumnId': 36246815, 'width': 232, 'cachedContents': {'largest': {'latitude': '34.52088095200048', 'longitude': '-106.24058098499967'}, 'non_null': 516115, 'null': 3603, 'top': [{'item': {'latitude': '13.444304', 'longitude': '144.793731'}, 'count': 20}, {'item': {'latitude': '18.220833', 'longitude': '-66.590149'}, 'count': 19}, {'item': {'latitude': '18.335765', 'longitude': '-64.896335'}, 'count': 18}, {'item': {'latitude': '31.827240407000488', 'longitude': '-99.42677020599967'}, 'count': 17}, {'item': {'latitude': '39.360700171000474', 'longitude': '-111.58713063499971'}, 'count': 16}, {'item': {'latitude': '43.62538123900049', 'longitude': '-72.51764079099962'}, 'count': 15}, {'item': {'latitude': '37.54268067400045', 'longitude': '-78.45789046299967'}, 'count': 14}, {'item': {'latitude': '47.52227862900048', 'longitude': '-120.47001078999972'}, 'count': 13}, {'item': {'latitude': '38.66551020200046', 'longitude': '-80.71264013499967'}, 'count': 12}, {'item': {'latitude': '44.39319117400049', 'longitude': '-89.81637074199966'}, 'count': 11}, {'item': {'latitude': '43.23554134300048', 'longitude': '-108.10983035299967'}, 'count': 10}, {'item': {'latitude': '38.907192', 'longitude': '-77.036871'}, 'count': 9}, {'item': {'latitude': '43.65595011300047', 'longitude': '-71.50036091999965'}, 'count': 8}, {'item': {'latitude': '45.254228894000505', 'longitude': '-68.98503133599962'}, 'count': 7}, {'item': {'latitude': '42.27687047000046', 'longitude': '-72.08269067499964'}, 'count': 6}, {'item': {'latitude': '37.63864012300047', 'longitude': '-120.99999953799971'}, 'count': 5}, {'item': {'latitude': '38.843840757000464', 'longitude': '-106.13361092099967'}, 'count': 4}, {'item': {'latitude': '42.46940091300047', 'longitude': '-93.81649055599968'}, 'count': 3}, {'item': {'latitude': '39.766910452000445', 'longitude': '-86.14996019399968'}, 'count': 2}, {'item': {'latitude': '46.35564873600049', 'longitude': '-94.79420050299967'}, 'count': 1}], 'smallest': {'latitude': '32.84057112200048', 'longitude': '-86.63186076199969'}}, 'format': {'view': 'address_coords', 'align': 'left'}, 'subColumnTypes': ['human_address', 'latitude', 'longitude', 'machine_address', 'needs_recoding']}, {'id': 360864951, 'name': 'ResponseID', 'dataTypeName': 'text', 'description': 'Identifier for the Response\\n', 'fieldName': 'responseid', 'position': 24, 'renderTypeName': 'text', 'tableColumnId': 36246818, 'width': 220, 'cachedContents': {'largest': ' ', 'non_null': 79176, 'null': 440542, 'top': [{'item': ' ', 'count': 20}], 'smallest': ' '}, 'format': {'displayStyle': 'plain', 'align': 'left'}}, {'id': 360864952, 'name': 'LocationID', 'dataTypeName': 'text', 'description': 'Location Identifier\\n', 'fieldName': 'locationid', 'position': 25, 'renderTypeName': 'text', 'tableColumnId': 36246819, 'width': 220, 'cachedContents': {'largest': '78', 'non_null': 519718, 'null': 0, 'top': [{'item': '66', 'count': 20}, {'item': '72', 'count': 19}, {'item': '78', 'count': 18}, {'item': '59', 'count': 17}, {'item': '33', 'count': 16}, {'item': '36', 'count': 15}, {'item': '44', 'count': 14}, {'item': '45', 'count': 13}, {'item': '46', 'count': 12}, {'item': '50', 'count': 11}, {'item': '23', 'count': 10}, {'item': '11', 'count': 9}, {'item': '12', 'count': 8}, {'item': '15', 'count': 7}, {'item': '35', 'count': 6}], 'smallest': '01'}, 'format': {'displayStyle': 'plain', 'align': 'left'}}, {'id': 360864953, 'name': 'TopicID', 'dataTypeName': 'text', 'fieldName': 'topicid', 'position': 26, 'renderTypeName': 'text', 'tableColumnId': 36246816, 'width': 184, 'cachedContents': {'largest': 'TOB', 'non_null': 519718, 'null': 0, 'top': [{'item': 'ALC', 'count': 20}, {'item': 'ART', 'count': 19}, {'item': 'AST', 'count': 18}, {'item': 'CAN', 'count': 17}, {'item': 'DIA', 'count': 16}, {'item': 'COPD', 'count': 15}, {'item': 'MTH', 'count': 14}, {'item': 'ORH', 'count': 13}, {'item': 'CVD', 'count': 12}, {'item': 'IMM', 'count': 11}, {'item': 'CKD', 'count': 10}, {'item': 'NPAW', 'count': 9}, {'item': 'OLD', 'count': 8}, {'item': 'TOB', 'count': 7}, {'item': 'OVC', 'count': 6}, {'item': 'RPH', 'count': 5}, {'item': 'DIS', 'count': 4}], 'smallest': 'ALC'}, 'format': {}}, {'id': 360864954, 'name': 'QuestionID', 'dataTypeName': 'text', 'description': 'Question Identifier\\n', 'fieldName': 'questionid', 'position': 27, 'renderTypeName': 'text', 'tableColumnId': 36246817, 'width': 220, 'cachedContents': {'largest': 'TOB9_0', 'non_null': 519718, 'null': 0, 'top': [{'item': 'DIA1_1', 'count': 20}, {'item': 'DIA1_2', 'count': 19}, {'item': 'OVC5_0', 'count': 18}, {'item': 'ALC6_0', 'count': 17}, {'item': 'AST4_1', 'count': 16}, {'item': 'CKD1_0', 'count': 15}, {'item': 'COPD1_1', 'count': 14}, {'item': 'COPD1_2', 'count': 13}, {'item': 'CVD1_1', 'count': 12}, {'item': 'CVD1_2', 'count': 11}, {'item': 'CVD1_3', 'count': 10}, {'item': 'CVD1_4', 'count': 9}, {'item': 'CVD1_5', 'count': 8}, {'item': 'AST2_1', 'count': 7}, {'item': 'DIS1_0', 'count': 6}, {'item': 'OVC3_1', 'count': 5}, {'item': 'OLD4_0', 'count': 4}, {'item': 'COPD6_1', 'count': 3}, {'item': 'COPD6_2', 'count': 2}, {'item': 'AST3_1', 'count': 1}], 'smallest': 'ALC1_1'}, 'format': {'displayStyle': 'plain', 'align': 'left'}}, {'id': 360864955, 'name': 'DataValueTypeID', 'dataTypeName': 'text', 'description': 'Identifier for the Data Value Type\\n', 'fieldName': 'datavaluetypeid', 'position': 28, 'renderTypeName': 'text', 'tableColumnId': 36246801, 'width': 280, 'cachedContents': {'largest': 'YESNO', 'non_null': 519718, 'null': 0, 'top': [{'item': 'CRDPREV', 'count': 20}, {'item': 'AGEADJPREV', 'count': 19}, {'item': 'MEAN', 'count': 18}, {'item': 'AGEADJMEAN', 'count': 17}, {'item': 'NMBR', 'count': 16}, {'item': 'MEDIAN', 'count': 15}, {'item': 'AGESEXRACEADJRATE', 'count': 14}, {'item': 'PRCT', 'count': 13}, {'item': 'AGEADJRATE', 'count': 12}, {'item': 'CRDRATE', 'count': 11}, {'item': 'YESNO', 'count': 10}, {'item': 'USD', 'count': 9}, {'item': 'COMMHSTLIAB', 'count': 8}, {'item': 'LCLCNTRLALC', 'count': 7}, {'item': 'PERCAPALC', 'count': 6}, {'item': 'PREV', 'count': 5}, {'item': 'AVGANNNMBR', 'count': 4}, {'item': 'AVGANNAGEADJRATE', 'count': 3}, {'item': 'AVGANNCRDRATE', 'count': 2}], 'smallest': 'AGEADJMEAN'}, 'format': {'displayStyle': 'plain', 'align': 'left'}}, {'id': 360864956, 'name': 'StratificationCategoryID1', 'dataTypeName': 'text', 'description': 'Identifier for stratification category 1\\n', 'fieldName': 'stratificationcategoryid1', 'position': 29, 'renderTypeName': 'text', 'tableColumnId': 36246820, 'width': 400, 'cachedContents': {'largest': 'RACE', 'non_null': 519718, 'null': 0, 'top': [{'item': 'OVERALL', 'count': 20}, {'item': 'GENDER', 'count': 19}, {'item': 'RACE', 'count': 18}], 'smallest': 'GENDER'}, 'format': {'displayStyle': 'plain', 'align': 'left'}}, {'id': 360864957, 'name': 'StratificationID1', 'dataTypeName': 'text', 'description': 'Identifier for stratification 1\\n', 'fieldName': 'stratificationid1', 'position': 30, 'renderTypeName': 'text', 'tableColumnId': 36246821, 'width': 304, 'cachedContents': {'largest': 'WHT', 'non_null': 519718, 'null': 0, 'top': [{'item': 'OVR', 'count': 20}, {'item': 'GENM', 'count': 19}, {'item': 'GENF', 'count': 18}, {'item': 'WHT', 'count': 17}, {'item': 'BLK', 'count': 16}, {'item': 'HIS', 'count': 15}, {'item': 'OTH', 'count': 14}, {'item': 'MRC', 'count': 13}, {'item': 'AIAN', 'count': 12}, {'item': 'API', 'count': 11}, {'item': 'ASN', 'count': 10}], 'smallest': 'AIAN'}, 'format': {'displayStyle': 'plain', 'align': 'left'}}, {'id': 360864958, 'name': 'StratificationCategoryID2', 'dataTypeName': 'text', 'fieldName': 'stratificationcategoryid2', 'position': 31, 'renderTypeName': 'text', 'tableColumnId': 36246822, 'width': 400, 'cachedContents': {'largest': ' ', 'non_null': 79189, 'null': 440529, 'top': [{'item': ' ', 'count': 20}], 'smallest': ' '}, 'format': {}}, {'id': 360864959, 'name': 'StratificationID2', 'dataTypeName': 'text', 'fieldName': 'stratificationid2', 'position': 32, 'renderTypeName': 'text', 'tableColumnId': 36246823, 'width': 304, 'cachedContents': {'largest': ' ', 'non_null': 79189, 'null': 440529, 'top': [{'item': ' ', 'count': 20}], 'smallest': ' '}, 'format': {}}, {'id': 360864960, 'name': 'StratificationCategoryID3', 'dataTypeName': 'text', 'fieldName': 'stratificationcategoryid3', 'position': 33, 'renderTypeName': 'text', 'tableColumnId': 36246824, 'width': 400, 'cachedContents': {'largest': ' ', 'non_null': 79188, 'null': 440530, 'top': [{'item': ' ', 'count': 20}], 'smallest': ' '}, 'format': {}}, {'id': 360864961, 'name': 'StratificationID3', 'dataTypeName': 'text', 'fieldName': 'stratificationid3', 'position': 34, 'renderTypeName': 'text', 'tableColumnId': 36246825, 'width': 304, 'cachedContents': {'largest': ' ', 'non_null': 79188, 'null': 440530, 'top': [{'item': ' ', 'count': 20}], 'smallest': ' '}, 'format': {}}], 'grants': [{'inherited': False, 'type': 'viewer', 'flags': ['public']}], 'license': {'name': 'Public Domain'}, 'metadata': {'rdfSubject': '0', 'rdfClass': '', 'custom_fields': {'Common Core': {'Contact Email': 'PublicInquiriesDPH@cdc.gov', 'Described By': 'https://chronicdata.cdc.gov/Chronic-Disease-Indicators/U-S-Chronic-Disease-Indicators-CDI-/g4ie-h725', 'References': 'https://www.cdc.gov/mmwr/pdf/rr/rr6401.pdf', 'Contact Name': 'DPH Public Inquiries', 'Program Code': '009:020', 'Publisher': 'Centers for Disease Control and Prevention', 'Bureau Code': '009:20', 'Public Access Level': 'Public Domain'}}, 'rowIdentifier': '0', 'rowLabel': 'Row', 'availableDisplayTypes': ['table', 'fatrow', 'page'], 'renderTypeConfig': {'visible': {'table': True}}}, 'owner': {'id': 'isr2-3jff', 'displayName': 'DPH Public Inquiries', 'screenName': 'DPH Public Inquiries', 'type': 'interactive'}, 'query': {}, 'rights': ['read'], 'tableAuthor': {'id': 'isr2-3jff', 'displayName': 'DPH Public Inquiries', 'screenName': 'DPH Public Inquiries', 'type': 'interactive'}, 'tags': ['cdi', 'chronic disease indicators', 'alcohol', 'arthritis', 'asthma', 'cancer', 'cardiovascular disease', 'chronic kidney disease', 'chronic obstructive pulmonary disease', 'diabetes', 'disability', 'immunization', 'mental health', 'nutrition physical activity and weight status', 'older adults', 'oral health', 'overarching conditions', 'reproductive health', 'tobacco', 'public health'], 'flags': ['default', 'restorable', 'restorePossibleForType']}])"
      ]
     },
     "execution_count": 8,
     "metadata": {},
     "output_type": "execute_result"
    }
   ],
   "source": [
    "data['meta'].values()"
   ]
  },
  {
   "cell_type": "code",
   "execution_count": 9,
   "metadata": {},
   "outputs": [
    {
     "data": {
      "text/plain": [
       "42"
      ]
     },
     "execution_count": 9,
     "metadata": {},
     "output_type": "execute_result"
    }
   ],
   "source": [
    "len(data['data'][0])"
   ]
  },
  {
   "cell_type": "markdown",
   "metadata": {},
   "source": [
    "## Convert to a DataFrame\n",
    "\n",
    "Create a DataFrame from the JSON file. Be sure to retrive the column names for the dataframe. (Search within the 'meta' key of the master dictionary.) The DataFrame should include all 42 columns."
   ]
  },
  {
   "cell_type": "code",
   "execution_count": 11,
   "metadata": {},
   "outputs": [
    {
     "data": {
      "text/html": [
       "<div>\n",
       "<style scoped>\n",
       "    .dataframe tbody tr th:only-of-type {\n",
       "        vertical-align: middle;\n",
       "    }\n",
       "\n",
       "    .dataframe tbody tr th {\n",
       "        vertical-align: top;\n",
       "    }\n",
       "\n",
       "    .dataframe thead th {\n",
       "        text-align: right;\n",
       "    }\n",
       "</style>\n",
       "<table border=\"1\" class=\"dataframe\">\n",
       "  <thead>\n",
       "    <tr style=\"text-align: right;\">\n",
       "      <th></th>\n",
       "      <th>0</th>\n",
       "      <th>1</th>\n",
       "      <th>2</th>\n",
       "      <th>3</th>\n",
       "      <th>4</th>\n",
       "      <th>5</th>\n",
       "      <th>6</th>\n",
       "      <th>7</th>\n",
       "      <th>8</th>\n",
       "      <th>9</th>\n",
       "      <th>...</th>\n",
       "      <th>32</th>\n",
       "      <th>33</th>\n",
       "      <th>34</th>\n",
       "      <th>35</th>\n",
       "      <th>36</th>\n",
       "      <th>37</th>\n",
       "      <th>38</th>\n",
       "      <th>39</th>\n",
       "      <th>40</th>\n",
       "      <th>41</th>\n",
       "    </tr>\n",
       "  </thead>\n",
       "  <tbody>\n",
       "    <tr>\n",
       "      <th>0</th>\n",
       "      <td>1</td>\n",
       "      <td>FF49C41F-CE8D-46C4-9164-653B1227CF6F</td>\n",
       "      <td>1</td>\n",
       "      <td>1527194521</td>\n",
       "      <td>959778</td>\n",
       "      <td>1527194521</td>\n",
       "      <td>959778</td>\n",
       "      <td>None</td>\n",
       "      <td>2016</td>\n",
       "      <td>2016</td>\n",
       "      <td>...</td>\n",
       "      <td>59</td>\n",
       "      <td>ALC</td>\n",
       "      <td>ALC2_2</td>\n",
       "      <td>CRDPREV</td>\n",
       "      <td>OVERALL</td>\n",
       "      <td>OVR</td>\n",
       "      <td>None</td>\n",
       "      <td>None</td>\n",
       "      <td>None</td>\n",
       "      <td>None</td>\n",
       "    </tr>\n",
       "    <tr>\n",
       "      <th>1</th>\n",
       "      <td>2</td>\n",
       "      <td>F4468C3D-340A-4CD2-84A3-DF554DFF065E</td>\n",
       "      <td>2</td>\n",
       "      <td>1527194521</td>\n",
       "      <td>959778</td>\n",
       "      <td>1527194521</td>\n",
       "      <td>959778</td>\n",
       "      <td>None</td>\n",
       "      <td>2016</td>\n",
       "      <td>2016</td>\n",
       "      <td>...</td>\n",
       "      <td>01</td>\n",
       "      <td>ALC</td>\n",
       "      <td>ALC2_2</td>\n",
       "      <td>CRDPREV</td>\n",
       "      <td>OVERALL</td>\n",
       "      <td>OVR</td>\n",
       "      <td>None</td>\n",
       "      <td>None</td>\n",
       "      <td>None</td>\n",
       "      <td>None</td>\n",
       "    </tr>\n",
       "    <tr>\n",
       "      <th>2</th>\n",
       "      <td>3</td>\n",
       "      <td>65609156-A343-4869-B03F-2BA62E96AC19</td>\n",
       "      <td>3</td>\n",
       "      <td>1527194521</td>\n",
       "      <td>959778</td>\n",
       "      <td>1527194521</td>\n",
       "      <td>959778</td>\n",
       "      <td>None</td>\n",
       "      <td>2016</td>\n",
       "      <td>2016</td>\n",
       "      <td>...</td>\n",
       "      <td>02</td>\n",
       "      <td>ALC</td>\n",
       "      <td>ALC2_2</td>\n",
       "      <td>CRDPREV</td>\n",
       "      <td>OVERALL</td>\n",
       "      <td>OVR</td>\n",
       "      <td>None</td>\n",
       "      <td>None</td>\n",
       "      <td>None</td>\n",
       "      <td>None</td>\n",
       "    </tr>\n",
       "    <tr>\n",
       "      <th>3</th>\n",
       "      <td>4</td>\n",
       "      <td>0DB09B00-EFEB-4AC0-9467-A7CBD2B57BF3</td>\n",
       "      <td>4</td>\n",
       "      <td>1527194521</td>\n",
       "      <td>959778</td>\n",
       "      <td>1527194521</td>\n",
       "      <td>959778</td>\n",
       "      <td>None</td>\n",
       "      <td>2016</td>\n",
       "      <td>2016</td>\n",
       "      <td>...</td>\n",
       "      <td>04</td>\n",
       "      <td>ALC</td>\n",
       "      <td>ALC2_2</td>\n",
       "      <td>CRDPREV</td>\n",
       "      <td>OVERALL</td>\n",
       "      <td>OVR</td>\n",
       "      <td>None</td>\n",
       "      <td>None</td>\n",
       "      <td>None</td>\n",
       "      <td>None</td>\n",
       "    </tr>\n",
       "    <tr>\n",
       "      <th>4</th>\n",
       "      <td>5</td>\n",
       "      <td>D98DA5BA-6FD6-40F5-A9B1-ABD45E44967B</td>\n",
       "      <td>5</td>\n",
       "      <td>1527194521</td>\n",
       "      <td>959778</td>\n",
       "      <td>1527194521</td>\n",
       "      <td>959778</td>\n",
       "      <td>None</td>\n",
       "      <td>2016</td>\n",
       "      <td>2016</td>\n",
       "      <td>...</td>\n",
       "      <td>05</td>\n",
       "      <td>ALC</td>\n",
       "      <td>ALC2_2</td>\n",
       "      <td>CRDPREV</td>\n",
       "      <td>OVERALL</td>\n",
       "      <td>OVR</td>\n",
       "      <td>None</td>\n",
       "      <td>None</td>\n",
       "      <td>None</td>\n",
       "      <td>None</td>\n",
       "    </tr>\n",
       "  </tbody>\n",
       "</table>\n",
       "<p>5 rows × 42 columns</p>\n",
       "</div>"
      ],
      "text/plain": [
       "   0                                     1   2           3       4   \\\n",
       "0   1  FF49C41F-CE8D-46C4-9164-653B1227CF6F   1  1527194521  959778   \n",
       "1   2  F4468C3D-340A-4CD2-84A3-DF554DFF065E   2  1527194521  959778   \n",
       "2   3  65609156-A343-4869-B03F-2BA62E96AC19   3  1527194521  959778   \n",
       "3   4  0DB09B00-EFEB-4AC0-9467-A7CBD2B57BF3   4  1527194521  959778   \n",
       "4   5  D98DA5BA-6FD6-40F5-A9B1-ABD45E44967B   5  1527194521  959778   \n",
       "\n",
       "           5       6     7     8     9   ...   32   33      34       35  \\\n",
       "0  1527194521  959778  None  2016  2016  ...   59  ALC  ALC2_2  CRDPREV   \n",
       "1  1527194521  959778  None  2016  2016  ...   01  ALC  ALC2_2  CRDPREV   \n",
       "2  1527194521  959778  None  2016  2016  ...   02  ALC  ALC2_2  CRDPREV   \n",
       "3  1527194521  959778  None  2016  2016  ...   04  ALC  ALC2_2  CRDPREV   \n",
       "4  1527194521  959778  None  2016  2016  ...   05  ALC  ALC2_2  CRDPREV   \n",
       "\n",
       "        36   37    38    39    40    41  \n",
       "0  OVERALL  OVR  None  None  None  None  \n",
       "1  OVERALL  OVR  None  None  None  None  \n",
       "2  OVERALL  OVR  None  None  None  None  \n",
       "3  OVERALL  OVR  None  None  None  None  \n",
       "4  OVERALL  OVR  None  None  None  None  \n",
       "\n",
       "[5 rows x 42 columns]"
      ]
     },
     "execution_count": 11,
     "metadata": {},
     "output_type": "execute_result"
    }
   ],
   "source": [
    "#Your code here\n",
    "import pandas as pd\n",
    "df = pd.DataFrame(data['data'])\n",
    "df.head()"
   ]
  },
  {
   "cell_type": "markdown",
   "metadata": {},
   "source": [
    "## Level-Up\n",
    "## Create a bar graph of states with the highest asthma rates for adults age 18+"
   ]
  },
  {
   "cell_type": "markdown",
   "metadata": {},
   "source": [
    "## Level-Up!\n",
    "## Create a function (or class) that returns an outline of the schema structure like this: \n",
    "<img src=\"images/outline.jpg\" width=\"350\">\n",
    "\n",
    "Rules:\n",
    "* Your outline should follow the numbering outline above (I, A, 1, a, i).\n",
    "* Your outline should be properly indented! (Four spaces or one tab per indentation level.)\n",
    "* Your function goes to at least a depth of 5 (Level-up: create a parameter so that the user can specify this)\n",
    "* If an entry is a dictionary, list its keys as the subheadings\n",
    "* After listing a key name (where applicable) include a space, a dash and the data type of the entry\n",
    "* If an entry is a dict or list put in parentheses how many items are in the entry\n",
    "* lists will not have key names for their entries (they're just indexed)\n",
    "* For subheadings of a list, state their datatypes. \n",
    "* If a dictionary or list is more then 5 items long, only show the first 5 (we want to limit our previews); make an arbitrary order choice for dictionaries. (Level-up: Parallel to above; allow user to specify number of items to preview for large subheading collections.)"
   ]
  },
  {
   "cell_type": "code",
   "execution_count": null,
   "metadata": {},
   "outputs": [],
   "source": [
    "# Your code here; you will probably want to define subfunctions.\n",
    "def print_obj_outline(json_obj):\n",
    "    return outline"
   ]
  },
  {
   "cell_type": "code",
   "execution_count": 22,
   "metadata": {
    "collapsed": true
   },
   "outputs": [],
   "source": [
    "outline = print_obj_outline(data)"
   ]
  },
  {
   "cell_type": "code",
   "execution_count": 23,
   "metadata": {},
   "outputs": [
    {
     "name": "stdout",
     "output_type": "stream",
     "text": [
      "I. root - <class 'dict'> (2 items)\n",
      "    A. meta <class 'dict'> (1 items)\n",
      "        1. view <class 'dict'> (40 items)\n",
      "            a. id <class 'str'> \n",
      "            b. name <class 'str'> \n",
      "            c. attribution <class 'str'> \n",
      "            d. attributionLink <class 'str'> \n",
      "            e. averageRating <class 'int'> \n",
      "    B. data <class 'list'> (60266 items)\n",
      "        1. <class 'list'> (42 items)\n",
      "            a. <class 'int'> \n",
      "            b. <class 'str'> \n",
      "            c. <class 'int'> \n",
      "            d. <class 'int'> \n",
      "            e. <class 'str'> \n",
      "        2. <class 'list'> (42 items)\n",
      "            a. <class 'int'> \n",
      "            b. <class 'str'> \n",
      "            c. <class 'int'> \n",
      "            d. <class 'int'> \n",
      "            e. <class 'str'> \n",
      "        3. <class 'list'> (42 items)\n",
      "            a. <class 'int'> \n",
      "            b. <class 'str'> \n",
      "            c. <class 'int'> \n",
      "            d. <class 'int'> \n",
      "            e. <class 'str'> \n",
      "        4. <class 'list'> (42 items)\n",
      "            a. <class 'int'> \n",
      "            b. <class 'str'> \n",
      "            c. <class 'int'> \n",
      "            d. <class 'int'> \n",
      "            e. <class 'str'> \n",
      "        5. <class 'list'> (42 items)\n",
      "            a. <class 'int'> \n",
      "            b. <class 'str'> \n",
      "            c. <class 'int'> \n",
      "            d. <class 'int'> \n",
      "            e. <class 'str'> \n"
     ]
    }
   ],
   "source": [
    "print(outline) #Your function should produce the following output for this json object (and work for all json files!)"
   ]
  },
  {
   "cell_type": "markdown",
   "metadata": {},
   "source": [
    "## Summary\n",
    "\n",
    "Well done! In this lab you got some extended practice exploring the structure of JSON files and writing a recursive generalized function for outlining a JSON file's schema! "
   ]
  }
 ],
 "metadata": {
  "kernelspec": {
   "display_name": "Python 3",
   "language": "python",
   "name": "python3"
  },
  "language_info": {
   "codemirror_mode": {
    "name": "ipython",
    "version": 3
   },
   "file_extension": ".py",
   "mimetype": "text/x-python",
   "name": "python",
   "nbconvert_exporter": "python",
   "pygments_lexer": "ipython3",
   "version": "3.6.6"
  }
 },
 "nbformat": 4,
 "nbformat_minor": 2
}
